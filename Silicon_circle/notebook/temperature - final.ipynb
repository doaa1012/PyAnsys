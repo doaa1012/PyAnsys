{
 "cells": [
  {
   "cell_type": "code",
   "execution_count": null,
   "metadata": {},
   "outputs": [],
   "source": [
    "import numpy as np\n",
    "import pickle\n",
    "import numpy as np\n",
    "import matplotlib.pyplot as plt\n",
    "import pandas as pd\n",
    "import sys\n",
    "sys.path.append(\"..\")\n",
    "from config import *\n",
    "from sklearn.linear_model import LinearRegression\n",
    "import math\n",
    "from scipy.optimize import curve_fit"
   ]
  },
  {
   "cell_type": "code",
   "execution_count": null,
   "metadata": {},
   "outputs": [],
   "source": [
    "loaded_node_temp= pd.read_pickle(Dict_temp_2)\n",
    "loaded_nodes_loc=pd.read_pickle(Nodes_loc_2)\n",
    "\n",
    "#df.head()"
   ]
  },
  {
   "cell_type": "code",
   "execution_count": null,
   "metadata": {},
   "outputs": [],
   "source": [
    "#loaded_node_temp.keys()"
   ]
  },
  {
   "cell_type": "code",
   "execution_count": null,
   "metadata": {},
   "outputs": [],
   "source": [
    "temperature =[]\n",
    "# Using a loop\n",
    "for key in loaded_node_temp:\n",
    "    if len(loaded_node_temp[key]) >= 3:  # Make sure the list has at least 2 elements\n",
    "        temperature .append(loaded_node_temp[key][2])\n",
    "\n",
    "print(temperature )\n"
   ]
  },
  {
   "cell_type": "code",
   "execution_count": null,
   "metadata": {},
   "outputs": [],
   "source": [
    "time= loaded_node_temp.keys()\n",
    "time = np.array(list(time), dtype=float)"
   ]
  },
  {
   "cell_type": "code",
   "execution_count": null,
   "metadata": {},
   "outputs": [],
   "source": [
    "time\n",
    "\n"
   ]
  },
  {
   "cell_type": "code",
   "execution_count": null,
   "metadata": {},
   "outputs": [],
   "source": [
    "# Define the function Tm(t) = a + bt + ∑∆Tn cos(nωt + ϕn) for n = 1, 3, 5, 7\n",
    "def tm_function(t, a, b, *params):\n",
    "    result = a + b * t\n",
    "    num_terms = len(params) // 2  # Since each term has both ∆Tn and ϕn\n",
    "    for n in range(1, num_terms + 1):\n",
    "        delta_Tn = params[2*n - 2]\n",
    "        phi_n = params[2*n - 1]\n",
    "        result += delta_Tn * np.cos(n * omega * t + phi_n)\n",
    "        \n",
    "    return result\n",
    "\n",
    "\n",
    "time= np.array(time)\n",
    "\n",
    "# Initial guess for parameters\n",
    "initial_guess = [1.0, 1.0] + [0.0, 0.0, 0.0, 0.0]  # [a, b, ∆T1, ϕ1, ∆T3, ϕ3, ∆T5, ϕ5, ∆T7, ϕ7]\n",
    "\n",
    "# Angular frequency\n",
    "omega = 2 * np.pi*0.182\n",
    "\n",
    "# Perform the curve fitting\n",
    "popt, _ = curve_fit(tm_function, time, temperature, p0=initial_guess)\n",
    "\n",
    "\n",
    "a_fit = popt[0]\n",
    "b_fit = popt[1]\n",
    "\n",
    "print(\"Fitted 'a' coefficient:\", a_fit)\n",
    "print(\"Fitted 'b' coefficient:\", b_fit)\n",
    "\n",
    "# Generate fitted curve using the fitted coefficients\n",
    "fitted_curve = tm_function(time, *popt)\n",
    "\n",
    "\n",
    "plt.plot(time, temperature, 'bo', label='Temperature from the simulation')\n",
    "plt.plot(time, fitted_curve, 'r-', label='Temperature from the least square')\n",
    "plt.xlabel('Time')\n",
    "plt.ylabel('Tm(t)')\n",
    "plt.legend()\n",
    "plt.show()\n"
   ]
  },
  {
   "cell_type": "code",
   "execution_count": null,
   "metadata": {},
   "outputs": [],
   "source": [
    " import numpy as np\n",
    "import matplotlib.pyplot as plt\n",
    "\n",
    "# Assuming you have time series data as follows:\n",
    "# t = np.array([...])  # Your time points\n",
    "# temperature = np.array([...])  # Your temperature data points\n",
    "\n",
    "# You would typically subtract the mean of the data to remove the DC component\n",
    "temperature_detrended = temperature - np.mean(temperature)\n",
    "# Apply windowing function\n",
    "window = np.blackman(len(temperature_detrended))\n",
    "windowed_signal = temperature_detrended * window\n",
    "\n",
    "# Perform the FFT on windowed signal\n",
    "fft_result = np.fft.fft(windowed_signal)\n",
    "\n",
    "frequencies = np.fft.fftfreq(len(time), np.mean(np.diff(time)))  # Assuming uniform spacing in time points\n",
    "\n",
    "# Plot the magnitude spectrum\n",
    "plt.figure(figsize=(10,6))\n",
    "plt.plot(frequencies, np.abs(fft_result))\n",
    "plt.xlabel('Frequency (Hz)')\n",
    "plt.ylabel('Magnitude')\n",
    "plt.title('FFT of Temperature Data')\n",
    "plt.show()"
   ]
  },
  {
   "cell_type": "code",
   "execution_count": null,
   "metadata": {},
   "outputs": [],
   "source": [
    "# Assuming that the time array is already defined as 'time'\n",
    "for i in range(1, len(fft_result)//2):  # //2 because the second half is the conjugate of the first half\n",
    "    freq = frequencies[i]\n",
    "    magnitude = np.abs(fft_result[i])\n",
    "    phase = np.angle(fft_result[i])\n",
    "    \n",
    "    # Constructing the sine wave component\n",
    "    sine_wave = magnitude * np.sin(2 * np.pi * freq * time + phase)\n",
    "    \n",
    "    plt.figure(figsize=(10,6))\n",
    "    plt.plot(time, sine_wave)\n",
    "    plt.title(f'Sine wave for Frequency {freq:.2f} Hz')\n",
    "    plt.xlabel('Time')\n",
    "    plt.ylabel('Amplitude')\n",
    "    plt.show()\n",
    "    break\n",
    "\n",
    "import cv2\n",
    "import numpy as np\n",
    "import matplotlib.pyplot as plt\n",
    "\n",
    "# Load the thermal image (This should be the path to your thermal image)\n",
    "image_path = 'path_to_your_thermal_image.png'\n",
    "image = cv2.imread(image_path, cv2.IMREAD_GRAYSCALE)  # Load as a grayscale image\n",
    "\n",
    "# If you have a series of images, you might load them in a loop and store them in a list\n",
    "\n",
    "# Process the image (simplified example)\n",
    "# Here, we'll just normalize the image to highlight the phase information, \n",
    "# but in real applications, more complex processing would be needed\n",
    "normalized_image = cv2.normalize(image, None, 0, 255, cv2.NORM_MINMAX)\n",
    "\n",
    "# Visualize the original and processed image\n",
    "plt.subplot(121), plt.imshow(image, cmap='gray'), plt.title('Original Image')\n",
    "plt.subplot(122), plt.imshow(normalized_image, cmap='gray'), plt.title('Processed Image')\n",
    "plt.show()\n",
    "\n"
   ]
  },
  {
   "cell_type": "code",
   "execution_count": null,
   "metadata": {},
   "outputs": [],
   "source": [
    "freq"
   ]
  },
  {
   "cell_type": "code",
   "execution_count": null,
   "metadata": {},
   "outputs": [],
   "source": [
    "np.mean(temperature)"
   ]
  },
  {
   "cell_type": "code",
   "execution_count": null,
   "metadata": {},
   "outputs": [],
   "source": [
    "fft_result"
   ]
  },
  {
   "cell_type": "code",
   "execution_count": null,
   "metadata": {},
   "outputs": [],
   "source": [
    "import numpy as np\n",
    "import matplotlib.pyplot as plt\n",
    "\n",
    "Q = 1000\n",
    "freq = 0.25  # Frequency is 0.25 Hz\n",
    "T_wave = 1 / freq  # Time period for one wave\n",
    "omega = 2 * np.pi * freq  \n",
    "\n",
    "# 4 minutes = 240 seconds\n",
    "t_end = 240  \n",
    "\n",
    "room_temp = 25\n",
    "num_steps = 1000  # Increasing num_steps to get a smoother curve\n",
    "time_values = np.linspace(0, t_end, num_steps, endpoint=False)\n",
    "cos_values = np.cos(omega * time_values)\n",
    "heat_flux = Q * (1 - cos_values)\n",
    "\n",
    "# Plotting\n",
    "plt.figure(figsize=(10, 6))\n",
    "plt.plot(time_values, heat_flux, label='Heat Flux')\n",
    "plt.xlabel('Time (s)')\n",
    "plt.ylabel('Heat Flux')\n",
    "plt.title('Heat Flux over Time')\n",
    "plt.legend()\n",
    "plt.show()\n"
   ]
  },
  {
   "cell_type": "code",
   "execution_count": null,
   "metadata": {},
   "outputs": [],
   "source": [
    "new_node_temperature =[]\n",
    "# Using a loop\n",
    "for key in loaded_node_temp:\n",
    "    if len(loaded_node_temp[key]) >= 100:  \n",
    "        new_node_temperature.append(loaded_node_temp[key][4])\n",
    "\n",
    "plt.plot(time, new_node_temperature, 'bo', label='Original Data')\n",
    "plt.plot(time,  fitted_curve, 'r-', label='Fitted Curve')\n",
    "plt.xlabel('Time(s)')\n",
    "plt.ylabel('Temp(t)')\n",
    "plt.legend()\n",
    "plt.show()"
   ]
  },
  {
   "cell_type": "code",
   "execution_count": null,
   "metadata": {},
   "outputs": [],
   "source": [
    "Error= abs((temperature- fitted_curve)/temperature)"
   ]
  },
  {
   "cell_type": "code",
   "execution_count": null,
   "metadata": {},
   "outputs": [],
   "source": [
    "np.mean(Error)*100"
   ]
  },
  {
   "cell_type": "code",
   "execution_count": null,
   "metadata": {},
   "outputs": [],
   "source": [
    "#0∘=∑𝑡sin(2𝜋𝜔𝑡+3𝜋2)∗𝑇(𝑡),\n",
    "(1)\n",
    "#90∘=∑𝑡cos(2𝜋𝜔𝑡+3𝜋2)∗𝑇(𝑡).\n",
    "# https://www.mdpi.com/2076-3417/13/7/4094\n",
    "#https://www.sciencedirect.com/science/article/abs/pii/S0026271410003550"
   ]
  }
 ],
 "metadata": {
  "kernelspec": {
   "display_name": "base",
   "language": "python",
   "name": "python3"
  },
  "language_info": {
   "codemirror_mode": {
    "name": "ipython",
    "version": 3
   },
   "file_extension": ".py",
   "mimetype": "text/x-python",
   "name": "python",
   "nbconvert_exporter": "python",
   "pygments_lexer": "ipython3",
   "version": "3.10.9"
  },
  "orig_nbformat": 4
 },
 "nbformat": 4,
 "nbformat_minor": 2
}
