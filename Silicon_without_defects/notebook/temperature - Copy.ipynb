{
 "cells": [
  {
   "cell_type": "code",
   "execution_count": 1,
   "metadata": {},
   "outputs": [],
   "source": [
    "import numpy as np\n",
    "import pickle\n",
    "import numpy as np\n",
    "import matplotlib.pyplot as plt\n",
    "import pandas as pd\n",
    "import sys\n",
    "sys.path.append(\"..\")\n",
    "from config import *\n",
    "from scripts.SNR import SNR\n",
    "from scripts.plot_images import plot_images\n",
    "from scripts.plot_line_defect import plot_line\n",
    "from scripts.Amp_phase_func import *\n",
    "from scripts.plot_rect import *\n",
    "import numpy as np\n",
    "from sklearn.linear_model import LinearRegression"
   ]
  },
  {
   "cell_type": "code",
   "execution_count": 2,
   "metadata": {},
   "outputs": [
    {
     "data": {
      "text/html": [
       "<div>\n",
       "<style scoped>\n",
       "    .dataframe tbody tr th:only-of-type {\n",
       "        vertical-align: middle;\n",
       "    }\n",
       "\n",
       "    .dataframe tbody tr th {\n",
       "        vertical-align: top;\n",
       "    }\n",
       "\n",
       "    .dataframe thead th {\n",
       "        text-align: right;\n",
       "    }\n",
       "</style>\n",
       "<table border=\"1\" class=\"dataframe\">\n",
       "  <thead>\n",
       "    <tr style=\"text-align: right;\">\n",
       "      <th></th>\n",
       "      <th>df_0_028.csv_Amplitude</th>\n",
       "      <th>df_0_028.csv_Phase</th>\n",
       "      <th>df_0_038.csv_Amplitude</th>\n",
       "      <th>df_0_038.csv_Phase</th>\n",
       "      <th>df_0_055.csv_Amplitude</th>\n",
       "      <th>df_0_055.csv_Phase</th>\n",
       "      <th>df_0_071.csv_Amplitude</th>\n",
       "      <th>df_0_071.csv_Phase</th>\n",
       "      <th>df_0_093.csv_Amplitude</th>\n",
       "      <th>df_0_093.csv_Phase</th>\n",
       "      <th>df_0_126.csv_Amplitude</th>\n",
       "      <th>df_0_126.csv_Phase</th>\n",
       "      <th>df_0_182.csv_Amplitude</th>\n",
       "      <th>df_0_182.csv_Phase</th>\n",
       "    </tr>\n",
       "  </thead>\n",
       "  <tbody>\n",
       "    <tr>\n",
       "      <th>0</th>\n",
       "      <td>0.127052</td>\n",
       "      <td>0.968112</td>\n",
       "      <td>0.005076</td>\n",
       "      <td>1.237575</td>\n",
       "      <td>0.078934</td>\n",
       "      <td>0.745113</td>\n",
       "      <td>0.111393</td>\n",
       "      <td>0.731411</td>\n",
       "      <td>0.135850</td>\n",
       "      <td>0.779373</td>\n",
       "      <td>0.140204</td>\n",
       "      <td>0.768051</td>\n",
       "      <td>0.118773</td>\n",
       "      <td>0.806604</td>\n",
       "    </tr>\n",
       "    <tr>\n",
       "      <th>1</th>\n",
       "      <td>0.127871</td>\n",
       "      <td>0.964349</td>\n",
       "      <td>0.005514</td>\n",
       "      <td>1.108180</td>\n",
       "      <td>0.078420</td>\n",
       "      <td>0.754151</td>\n",
       "      <td>0.110951</td>\n",
       "      <td>0.739843</td>\n",
       "      <td>0.135515</td>\n",
       "      <td>0.788076</td>\n",
       "      <td>0.140043</td>\n",
       "      <td>0.778478</td>\n",
       "      <td>0.118951</td>\n",
       "      <td>0.822127</td>\n",
       "    </tr>\n",
       "    <tr>\n",
       "      <th>2</th>\n",
       "      <td>0.127781</td>\n",
       "      <td>0.964507</td>\n",
       "      <td>0.005469</td>\n",
       "      <td>1.111743</td>\n",
       "      <td>0.078435</td>\n",
       "      <td>0.754137</td>\n",
       "      <td>0.110961</td>\n",
       "      <td>0.739842</td>\n",
       "      <td>0.135530</td>\n",
       "      <td>0.788047</td>\n",
       "      <td>0.140064</td>\n",
       "      <td>0.778372</td>\n",
       "      <td>0.118972</td>\n",
       "      <td>0.821818</td>\n",
       "    </tr>\n",
       "    <tr>\n",
       "      <th>3</th>\n",
       "      <td>0.128575</td>\n",
       "      <td>0.962778</td>\n",
       "      <td>0.005919</td>\n",
       "      <td>1.068277</td>\n",
       "      <td>0.078197</td>\n",
       "      <td>0.755935</td>\n",
       "      <td>0.110815</td>\n",
       "      <td>0.741456</td>\n",
       "      <td>0.135430</td>\n",
       "      <td>0.789716</td>\n",
       "      <td>0.140000</td>\n",
       "      <td>0.780440</td>\n",
       "      <td>0.118978</td>\n",
       "      <td>0.825055</td>\n",
       "    </tr>\n",
       "    <tr>\n",
       "      <th>4</th>\n",
       "      <td>0.128304</td>\n",
       "      <td>0.963362</td>\n",
       "      <td>0.005760</td>\n",
       "      <td>1.081913</td>\n",
       "      <td>0.078277</td>\n",
       "      <td>0.755404</td>\n",
       "      <td>0.110862</td>\n",
       "      <td>0.740991</td>\n",
       "      <td>0.135462</td>\n",
       "      <td>0.789237</td>\n",
       "      <td>0.140024</td>\n",
       "      <td>0.779832</td>\n",
       "      <td>0.118982</td>\n",
       "      <td>0.824058</td>\n",
       "    </tr>\n",
       "  </tbody>\n",
       "</table>\n",
       "</div>"
      ],
      "text/plain": [
       "   df_0_028.csv_Amplitude  df_0_028.csv_Phase  df_0_038.csv_Amplitude  \\\n",
       "0                0.127052            0.968112                0.005076   \n",
       "1                0.127871            0.964349                0.005514   \n",
       "2                0.127781            0.964507                0.005469   \n",
       "3                0.128575            0.962778                0.005919   \n",
       "4                0.128304            0.963362                0.005760   \n",
       "\n",
       "   df_0_038.csv_Phase  df_0_055.csv_Amplitude  df_0_055.csv_Phase  \\\n",
       "0            1.237575                0.078934            0.745113   \n",
       "1            1.108180                0.078420            0.754151   \n",
       "2            1.111743                0.078435            0.754137   \n",
       "3            1.068277                0.078197            0.755935   \n",
       "4            1.081913                0.078277            0.755404   \n",
       "\n",
       "   df_0_071.csv_Amplitude  df_0_071.csv_Phase  df_0_093.csv_Amplitude  \\\n",
       "0                0.111393            0.731411                0.135850   \n",
       "1                0.110951            0.739843                0.135515   \n",
       "2                0.110961            0.739842                0.135530   \n",
       "3                0.110815            0.741456                0.135430   \n",
       "4                0.110862            0.740991                0.135462   \n",
       "\n",
       "   df_0_093.csv_Phase  df_0_126.csv_Amplitude  df_0_126.csv_Phase  \\\n",
       "0            0.779373                0.140204            0.768051   \n",
       "1            0.788076                0.140043            0.778478   \n",
       "2            0.788047                0.140064            0.778372   \n",
       "3            0.789716                0.140000            0.780440   \n",
       "4            0.789237                0.140024            0.779832   \n",
       "\n",
       "   df_0_182.csv_Amplitude  df_0_182.csv_Phase  \n",
       "0                0.118773            0.806604  \n",
       "1                0.118951            0.822127  \n",
       "2                0.118972            0.821818  \n",
       "3                0.118978            0.825055  \n",
       "4                0.118982            0.824058  "
      ]
     },
     "execution_count": 2,
     "metadata": {},
     "output_type": "execute_result"
    }
   ],
   "source": [
    "loaded_node_temp= pd.read_pickle(Dict_temp_0_182)\n",
    "loaded_nodes_loc=pd.read_pickle(Nodes_loc_0_182)\n",
    "df= pd.read_csv(result_df)\n",
    "df.head()"
   ]
  },
  {
   "cell_type": "code",
   "execution_count": 3,
   "metadata": {},
   "outputs": [
    {
     "data": {
      "text/plain": [
       "8887"
      ]
     },
     "execution_count": 3,
     "metadata": {},
     "output_type": "execute_result"
    }
   ],
   "source": [
    "\n",
    "len(loaded_nodes_loc)"
   ]
  },
  {
   "cell_type": "code",
   "execution_count": 4,
   "metadata": {},
   "outputs": [
    {
     "data": {
      "text/plain": [
       "8887"
      ]
     },
     "execution_count": 4,
     "metadata": {},
     "output_type": "execute_result"
    }
   ],
   "source": [
    "len(loaded_node_temp[0.0999])"
   ]
  },
  {
   "cell_type": "code",
   "execution_count": 5,
   "metadata": {},
   "outputs": [
    {
     "name": "stdout",
     "output_type": "stream",
     "text": [
      "[25.000163332552578, 25.000782199312045, 25.002089688376337, 25.004271614131422, 25.00747429576227, 25.011809726053006, 25.017359084698263, 25.02417522563002, 25.032284554867516, 25.0416885748167, 25.052365277422815, 25.064270505731255, 25.077339360643435, 25.091487700109546, 25.10661375722778, 25.12259988883604, 25.139314455308487, 25.156613824184383, 25.174344484162866, 25.192345251375123, 25.210449546350752, 25.228487717505878, 25.246289385143275, 25.26368577876918, 25.280512039925203, 25.296609462653986, 25.31182764412065, 25.326026518765353, 25.339078250628926, 25.35086896014385, 25.36130026368023, 25.370290606450038, 25.37777637196061, 25.383712754036875, 25.388074380456253, 25.390855680419286, 25.39207099137038, 25.391754404039997, 25.38995934795723, 25.386757923036637, 25.382239986127928, 25.376512004590058, 25.369695691970286, 25.361926443693317, 25.353351593258324, 25.34412851176999, 25.33442257566107, 25.324405029173057, 25.31425076952432, 25.304136083697156, 25.294236366397527, 25.284723848982235, 25.275765368999288, 25.267520209453405, 25.260138035995933, 25.25375695895712, 25.248501745509582, 25.24448220529063, 25.24179177054733, 25.240506289331517, 25.240683047491316, 25.24236003222229, 25.245555446790856, 25.250267482767498, 25.25647435274897, 25.264134583152856, 25.273187563276657, 25.283554343472865, 25.295138672043535, 25.30782825734638, 25.32149623866755, 25.33600284669651, 25.351197231965266, 25.36691943742637, 25.383002489464268, 25.399274580091944, 25.415561311895836, 25.431687976474418, 25.44748183668009, 25.462774382924064, 25.47740353414245, 25.49121575474392, 25.50406805995368, 25.51582988342464, 25.526384782781065, 25.53563196087341, 25.54348758292495, 25.549885872411256, 25.55477997139803, 25.558142554132843, 25.55996618590204, 25.56026342248521, 25.55906664891943, 25.556427659684495, 25.55241698578927, 25.54712297753919, 25.540650654947907, 25.533120340785505, 25.524666094087472, 25.51543396455002, 25.505580090570263, 25.495268665728815, 25.484669800225106, 25.473957305145614, 25.46330642845002, 25.452891572188843, 25.442884020711073, 25.433449709475834, 25.424747063552793, 25.41692493398692, 25.410120658928015, 25.404458274797623, 25.400046900811272, 25.396979317912557, 25.395330760643102, 25.395157937695167, 25.396498293913716, 25.39936952336675, 25.40376933983089, 25.409675507682998, 25.41704613279493, 25.425820209639507, 25.435918417475538, 25.447244155234227, 25.459684801617094, 25.47311318398067, 25.487389236861354, 25.502361828522933, 25.517870731717892, 25.533748712975626, 25.549823713184395, 25.565921091044608, 25.581865900152053, 25.59748517003001, 25.6126101613795, 25.62707856615151, 25.640736623765196, 25.65344112588856, 25.665061283650978, 25.675480432949712, 25.684597555622982, 25.692328596662463, 25.698607560295876, 25.703387370653267, 25.70664048579895, 25.70835925712499, 25.708556029422013, 25.707262980323044, 25.704531701212517, 25.700432525063164, 25.695053609961633, 25.688499790268633, 25.68089121038723, 25.67236175894792, 25.663057323819075, 25.653133890688355, 25.64275550999823, 25.632092158736324, 25.621317524950612, 25.61060674386811, 25.600134115125314, 25.590070830866676, 25.58058274432424, 25.571828207965957, 25.563956009391685, 25.557103431883878, 25.551394464894138, 25.546938187793323, 25.543827347954352, 25.54213715170465, 25.541924283909815, 25.54322616897133, 25.54606048287347, 25.550424922643078, 25.556297236230588, 25.563635512426128, 25.57237872703534, 25.58244753819889, 25.593745320492797, 25.606159424333306, 25.619562644273937, 25.633814877058718, 25.648764947822393, 25.66425258063581, 25.68011048771375, 25.696166550054137, 25.7122460610864, 25.72817400408456, 25.743777333660123, 25.758887231595654, 25.773341307614988, 25.786985716401542, 25.79967716326929, 25.8112847723399, 25.821691792872596, 25.830797121501565, 25.838516620535337, 25.84478421513011, 25.84955275503097, 25.852794629643526, 25.854502128413138, 25.8546875418089, 25.85338300159032, 25.850640062433143, 25.846529030361282, 25.841138046733832, 25.83457193972043, 25.826950858231392, 25.818408706103266, 25.809091396945426, 25.799154952391095, 25.788763468538153, 25.778086977083557, 25.76729922902862, 25.75657542984217, 25.746089955603107, 25.736014079890868, 25.726513741054653, 25.717747378965818, 25.709863869453415, 25.703000583350544, 25.697281595454637, 25.692816066753323, 25.68969682100782, 25.68799913425457, 25.68777975301012, 25.68907615398425, 25.691906054958363, 25.696267183212885, 25.70213730453065, 25.709474512406192, 25.71821777370004, 25.728287723633784, 25.739587699771263, 25.752005001516142, 25.76541235871598, 25.779669590236544, 25.794625430893472, 25.810119502933066, 25.82598440636884, 25.842047900930545, 25.858135151187053, 25.874071005580074, 25.88968227966229, 25.904800013778388, 25.919261675758385, 25.932913279909073, 25.945611394678913, 25.957225012822096, 25.967637259678416, 25.976746917294996, 25.984469744515245, 25.990739575819507, 25.995509184584545, 25.99875089950001, 26.00045696609612, 26.000639648659487, 25.999331071198043, 25.99658279951652, 25.992465169839626, 25.98706637272323, 25.980491304184646, 25.97286019901711, 25.964307064094456, 25.954977932078982, 25.945028958287832, 25.934624385518525, 25.923934403356995, 25.913132929867217, 25.90239534457562, 25.891896202298717, 25.881806957614202, 25.872293729638432, 25.86351573235232, 25.855784637114592]\n"
     ]
    }
   ],
   "source": [
    "temperature =[]\n",
    "# Using a loop\n",
    "for key in loaded_node_temp:\n",
    "    if len(loaded_node_temp[key]) >= 2:  # Make sure the list has at least 2 elements\n",
    "        temperature .append(loaded_node_temp[key][1])\n",
    "\n",
    "print(temperature )\n"
   ]
  },
  {
   "cell_type": "code",
   "execution_count": 6,
   "metadata": {},
   "outputs": [],
   "source": [
    "amplitude_data = df[\"df_0_028.csv_Amplitude\"].values\n",
    "phase_data = df[\"df_0_028.csv_Phase\"].values"
   ]
  },
  {
   "cell_type": "code",
   "execution_count": 7,
   "metadata": {},
   "outputs": [
    {
     "data": {
      "text/plain": [
       "8887"
      ]
     },
     "execution_count": 7,
     "metadata": {},
     "output_type": "execute_result"
    }
   ],
   "source": [
    "len(amplitude_data)"
   ]
  },
  {
   "cell_type": "code",
   "execution_count": 8,
   "metadata": {},
   "outputs": [],
   "source": [
    "amp= amplitude_data[2]\n",
    "ph= phase_data[2]\n",
    "time = list(loaded_node_temp.keys())"
   ]
  },
  {
   "cell_type": "code",
   "execution_count": 11,
   "metadata": {},
   "outputs": [
    {
     "name": "stdout",
     "output_type": "stream",
     "text": [
      "Baseline temperature (a): 25.15351117975722\n",
      "Linear drift coefficient (b): 0.02952734427559179\n"
     ]
    }
   ],
   "source": [
    "# Reshape the data for sklearn LinearRegression\n",
    "X = np.array(time).reshape(-1, 1)\n",
    "y = temperature\n",
    "\n",
    "# Fit linear regression model\n",
    "model = LinearRegression()\n",
    "model.fit(X, y)\n",
    "\n",
    "\n",
    "b = model.coef_[0]  # Linear drift coefficient (b)\n",
    "a = model.intercept_  # Baseline temperature (a)\n",
    "\n",
    "print(\"Baseline temperature (a):\", a)\n",
    "print(\"Linear drift coefficient (b):\", b)\n"
   ]
  },
  {
   "cell_type": "code",
   "execution_count": 13,
   "metadata": {},
   "outputs": [],
   "source": [
    "predicted_temperature = a + b * np.array(time)"
   ]
  },
  {
   "cell_type": "code",
   "execution_count": 14,
   "metadata": {},
   "outputs": [
    {
     "data": {
      "image/png": "[encoded data removed]",
      "text/plain": [
       "<Figure size 640x480 with 1 Axes>"
      ]
     },
     "metadata": {},
     "output_type": "display_data"
    }
   ],
   "source": [
    "# Plot the original data points and the predicted temperature line\n",
    "plt.scatter(time, temperature, label='Original Data')\n",
    "plt.plot(time, predicted_temperature, color='red', label='Predicted Temperature')\n",
    "plt.xlabel('Time')\n",
    "plt.ylabel('Temperature')\n",
    "plt.title('Original Data and Predicted Temperature')\n",
    "plt.legend()\n",
    "plt.show()"
   ]
  },
  {
   "cell_type": "code",
   "execution_count": null,
   "metadata": {},
   "outputs": [],
   "source": [
    "import numpy as np\n",
    "from scipy.optimize import curve_fit\n",
    "import matplotlib.pyplot as plt\n",
    "\n",
    "# Define the function Tm(t) = a + bt + ∑∆Tn sin(nωt + ϕn) for n = 1, 3, 5, 7\n",
    "def tm_function(t, a, b, *params):\n",
    "    result = a + b * t\n",
    "    for n in range(1, len(params) + 1):\n",
    "        delta_Tn = params[n - 1]\n",
    "        phi_n = params[n]\n",
    "        result += delta_Tn * np.sin(n * omega * t + phi_n)\n",
    "    return result\n",
    "\n",
    "# Load your data\n",
    "# Replace these arrays with your actual data\n",
    "time = np.array([0.0, 0.2, 0.4, 0.6, 0.8, 1.0])  # Example time points\n",
    "data = np.array([1.0, 1.2, 1.4, 1.5, 1.8, 2.0])  # Example Tm(t) values\n",
    "\n",
    "# Initial guess for parameters\n",
    "initial_guess = [1.0, 1.0] + [0.0, 0.0, 0.0, 0.0]  # [a, b, ∆T1, ∆T3, ∆T5, ∆T7, ϕ1, ϕ3, ϕ5, ϕ7]\n",
    "\n",
    "# Angular frequency\n",
    "omega = 2 * np.pi\n",
    "\n",
    "# Perform the curve fitting\n",
    "popt, _ = curve_fit(tm_function, time, data, p0=initial_guess)\n",
    "\n",
    "# Extract the fitted coefficients\n",
    "a_fit = popt[0]\n",
    "b_fit = popt[1]\n",
    "\n",
    "print(\"Fitted 'a' coefficient:\", a_fit)\n",
    "print(\"Fitted 'b' coefficient:\", b_fit)\n",
    "\n",
    "# Generate fitted curve using the fitted coefficients\n",
    "fitted_curve = tm_function(time, *popt)\n",
    "\n",
    "# Plot the original data and the fitted curve\n",
    "plt.plot(time, data, 'bo', label='Original Data')\n",
    "plt.plot(time, fitted_curve, 'r-', label='Fitted Curve')\n",
    "plt.xlabel('Time')\n",
    "plt.ylabel('Tm(t)')\n",
    "plt.legend()\n",
    "plt.show()\n"
   ]
  },
  {
   "cell_type": "code",
   "execution_count": null,
   "metadata": {},
   "outputs": [
    {
     "name": "stdout",
     "output_type": "stream",
     "text": [
      "Calculated value of a:\n",
      "Integral(Sum(delta_T(n)*sin(n*omega*t + phi(n)), (n, 1, oo)), (t, 0, 2*pi))/(2*pi)\n",
      "\n",
      "Calculated value of b:\n",
      "0\n"
     ]
    }
   ],
   "source": [
    "import sympy as sp\n",
    "\n",
    "# Define symbols and variables\n",
    "t = sp.symbols('t')\n",
    "n = sp.Symbol('n', integer=True)\n",
    "omega = sp.Symbol('omega')\n",
    "delta_T = sp.Function('delta_T')(n)\n",
    "phi = sp.Function('phi')(n)\n",
    "\n",
    "# Define the Fourier series representation\n",
    "Tm_fourier = sp.Sum(delta_T * sp.sin(n * omega * t + phi), (n, 1, sp.oo))\n",
    "\n",
    "# Calculate average of Tm(t) over one period (a)\n",
    "Tm_average = 1 / (2 * sp.pi) * sp.integrate(Tm_fourier, (t, 0, 2 * sp.pi))\n",
    "\n",
    "# Calculate coefficient of t in the Fourier series (b)\n",
    "Tm_coeff_t = Tm_fourier.coeff(t, 1)\n",
    "\n",
    "# Print the calculated values for a and b\n",
    "print(\"Calculated value of a:\")\n",
    "print(Tm_average)\n",
    "print(\"\\nCalculated value of b:\")\n",
    "print(Tm_coeff_t)\n"
   ]
  },
  {
   "cell_type": "code",
   "execution_count": null,
   "metadata": {},
   "outputs": [
    {
     "name": "stdout",
     "output_type": "stream",
     "text": [
      "Fitted 'a' value: 0.5100004357747442\n",
      "Fitted 'b' value: 0.19799991282680032\n"
     ]
    },
    {
     "data": {
      "image/png": "[encoded data removed]",
      "text/plain": [
       "<Figure size 640x480 with 1 Axes>"
      ]
     },
     "metadata": {},
     "output_type": "display_data"
    }
   ],
   "source": [
    "import numpy as np\n",
    "import matplotlib.pyplot as plt\n",
    "from scipy.optimize import curve_fit\n",
    "\n",
    "def linear_function(t, a, b):\n",
    "    return a + b * t\n",
    "\n",
    "# Generate some example data\n",
    "t_data = np.linspace(0, 10, 100)\n",
    "temperature_data = linear_function(t_data, 0.5, 0.2) + 0.1 * np.sin(2 * np.pi * t_data) + 0.05 * np.sin(6 * np.pi * t_data)\n",
    "\n",
    "# Fit the linear function to the data to get 'a' and 'b'\n",
    "params, _ = curve_fit(linear_function, t_data, temperature_data)\n",
    "a_fit, b_fit = params\n",
    "\n",
    "print(\"Fitted 'a' value:\", a_fit)\n",
    "print(\"Fitted 'b' value:\", b_fit)\n",
    "\n",
    "# Plot the fitted linear function and the original data\n",
    "plt.plot(t_data, temperature_data, label='Original Data')\n",
    "plt.plot(t_data, linear_function(t_data, a_fit, b_fit), label='Fitted Linear Function')\n",
    "plt.xlabel('Time')\n",
    "plt.ylabel('Temperature')\n",
    "plt.title('Linear Fit to Data')\n",
    "plt.legend()\n",
    "plt.grid(True)\n",
    "plt.show()\n"
   ]
  },
  {
   "cell_type": "code",
   "execution_count": null,
   "metadata": {},
   "outputs": [],
   "source": []
  },
  {
   "cell_type": "code",
   "execution_count": null,
   "metadata": {},
   "outputs": [
    {
     "ename": "ValueError",
     "evalue": "operands could not be broadcast together with shapes (6,) (3,) ",
     "output_type": "error",
     "traceback": [
      "\u001b[1;31m---------------------------------------------------------------------------\u001b[0m",
      "\u001b[1;31mValueError\u001b[0m                                Traceback (most recent call last)",
      "Cell \u001b[1;32mIn[1], line 23\u001b[0m\n\u001b[0;32m     20\u001b[0m initial_guess \u001b[39m=\u001b[39m [\u001b[39m1.0\u001b[39m, \u001b[39m1.0\u001b[39m]\n\u001b[0;32m     22\u001b[0m \u001b[39m# Perform optimization to find a and b\u001b[39;00m\n\u001b[1;32m---> 23\u001b[0m result \u001b[39m=\u001b[39m minimize(loss_function, initial_guess, method\u001b[39m=\u001b[39;49m\u001b[39m'\u001b[39;49m\u001b[39mNelder-Mead\u001b[39;49m\u001b[39m'\u001b[39;49m)\n\u001b[0;32m     25\u001b[0m \u001b[39m# Extract optimized a and b\u001b[39;00m\n\u001b[0;32m     26\u001b[0m optimized_a, optimized_b \u001b[39m=\u001b[39m result\u001b[39m.\u001b[39mx\n",
      "File \u001b[1;32mc:\\Users\\Doaa Mohamed\\anaconda3\\lib\\site-packages\\scipy\\optimize\\_minimize.py:684\u001b[0m, in \u001b[0;36mminimize\u001b[1;34m(fun, x0, args, method, jac, hess, hessp, bounds, constraints, tol, callback, options)\u001b[0m\n\u001b[0;32m    681\u001b[0m     bounds \u001b[39m=\u001b[39m standardize_bounds(bounds, x0, meth)\n\u001b[0;32m    683\u001b[0m \u001b[39mif\u001b[39;00m meth \u001b[39m==\u001b[39m \u001b[39m'\u001b[39m\u001b[39mnelder-mead\u001b[39m\u001b[39m'\u001b[39m:\n\u001b[1;32m--> 684\u001b[0m     res \u001b[39m=\u001b[39m _minimize_neldermead(fun, x0, args, callback, bounds\u001b[39m=\u001b[39mbounds,\n\u001b[0;32m    685\u001b[0m                                \u001b[39m*\u001b[39m\u001b[39m*\u001b[39moptions)\n\u001b[0;32m    686\u001b[0m \u001b[39melif\u001b[39;00m meth \u001b[39m==\u001b[39m \u001b[39m'\u001b[39m\u001b[39mpowell\u001b[39m\u001b[39m'\u001b[39m:\n\u001b[0;32m    687\u001b[0m     res \u001b[39m=\u001b[39m _minimize_powell(fun, x0, args, callback, bounds, \u001b[39m*\u001b[39m\u001b[39m*\u001b[39moptions)\n",
      "File \u001b[1;32mc:\\Users\\Doaa Mohamed\\anaconda3\\lib\\site-packages\\scipy\\optimize\\_optimize.py:845\u001b[0m, in \u001b[0;36m_minimize_neldermead\u001b[1;34m(func, x0, args, callback, maxiter, maxfev, disp, return_all, initial_simplex, xatol, fatol, adaptive, bounds, **unknown_options)\u001b[0m\n\u001b[0;32m    843\u001b[0m \u001b[39mtry\u001b[39;00m:\n\u001b[0;32m    844\u001b[0m     \u001b[39mfor\u001b[39;00m k \u001b[39min\u001b[39;00m \u001b[39mrange\u001b[39m(N \u001b[39m+\u001b[39m \u001b[39m1\u001b[39m):\n\u001b[1;32m--> 845\u001b[0m         fsim[k] \u001b[39m=\u001b[39m func(sim[k])\n\u001b[0;32m    846\u001b[0m \u001b[39mexcept\u001b[39;00m _MaxFuncCallError:\n\u001b[0;32m    847\u001b[0m     \u001b[39mpass\u001b[39;00m\n",
      "File \u001b[1;32mc:\\Users\\Doaa Mohamed\\anaconda3\\lib\\site-packages\\scipy\\optimize\\_optimize.py:569\u001b[0m, in \u001b[0;36m_wrap_scalar_function_maxfun_validation.<locals>.function_wrapper\u001b[1;34m(x, *wrapper_args)\u001b[0m\n\u001b[0;32m    567\u001b[0m ncalls[\u001b[39m0\u001b[39m] \u001b[39m+\u001b[39m\u001b[39m=\u001b[39m \u001b[39m1\u001b[39m\n\u001b[0;32m    568\u001b[0m \u001b[39m# A copy of x is sent to the user function (gh13740)\u001b[39;00m\n\u001b[1;32m--> 569\u001b[0m fx \u001b[39m=\u001b[39m function(np\u001b[39m.\u001b[39;49mcopy(x), \u001b[39m*\u001b[39;49m(wrapper_args \u001b[39m+\u001b[39;49m args))\n\u001b[0;32m    570\u001b[0m \u001b[39m# Ideally, we'd like to a have a true scalar returned from f(x). For\u001b[39;00m\n\u001b[0;32m    571\u001b[0m \u001b[39m# backwards-compatibility, also allow np.array([1.3]),\u001b[39;00m\n\u001b[0;32m    572\u001b[0m \u001b[39m# np.array([[1.3]]) etc.\u001b[39;00m\n\u001b[0;32m    573\u001b[0m \u001b[39mif\u001b[39;00m \u001b[39mnot\u001b[39;00m np\u001b[39m.\u001b[39misscalar(fx):\n",
      "Cell \u001b[1;32mIn[1], line 16\u001b[0m, in \u001b[0;36mloss_function\u001b[1;34m(coefficients)\u001b[0m\n\u001b[0;32m     14\u001b[0m \u001b[39mdef\u001b[39;00m \u001b[39mloss_function\u001b[39m(coefficients):\n\u001b[0;32m     15\u001b[0m     a, b \u001b[39m=\u001b[39m coefficients\n\u001b[1;32m---> 16\u001b[0m     predicted_temps \u001b[39m=\u001b[39m a \u001b[39m+\u001b[39m b \u001b[39m*\u001b[39m t \u001b[39m+\u001b[39m np\u001b[39m.\u001b[39msum(delta_Tn \u001b[39m*\u001b[39m np\u001b[39m.\u001b[39msin(omega \u001b[39m*\u001b[39;49m t \u001b[39m+\u001b[39;49m phi_n))\n\u001b[0;32m     17\u001b[0m     \u001b[39mreturn\u001b[39;00m np\u001b[39m.\u001b[39msum((Tm \u001b[39m-\u001b[39m predicted_temps)\u001b[39m*\u001b[39m\u001b[39m*\u001b[39m\u001b[39m2\u001b[39m)\n",
      "\u001b[1;31mValueError\u001b[0m: operands could not be broadcast together with shapes (6,) (3,) "
     ]
    }
   ],
   "source": [
    "import numpy as np\n",
    "from scipy.optimize import minimize\n",
    "\n",
    "# Simulated data\n",
    "t = np.array([0, 1, 2, 3, 4, 5])  # Time points\n",
    "Tm = np.array([10.1, 12.2, 14.3, 16.2, 18.5, 20.6])  # Measured temperature values\n",
    "\n",
    "# Constants for Fourier components\n",
    "delta_Tn = np.array([1, 2, 0.5])\n",
    "omega = 2 * np.pi  # Modulated frequency\n",
    "phi_n = np.array([0.1, 0.5, 1.2])\n",
    "\n",
    "# Function to minimize (sum of squared errors)\n",
    "def loss_function(coefficients):\n",
    "    a, b = coefficients\n",
    "    predicted_temps = a + b * t + np.sum(delta_Tn * np.sin(omega * t + phi_n))\n",
    "    return np.sum((Tm - predicted_temps)**2)\n",
    "\n",
    "# Initial guess for a and b\n",
    "initial_guess = [1.0, 1.0]\n",
    "\n",
    "# Perform optimization to find a and b\n",
    "result = minimize(loss_function, initial_guess, method='Nelder-Mead')\n",
    "\n",
    "# Extract optimized a and b\n",
    "optimized_a, optimized_b = result.x\n",
    "\n",
    "print(\"Optimized a:\", optimized_a)\n",
    "print(\"Optimized b:\", optimized_b)\n"
   ]
  },
  {
   "cell_type": "code",
   "execution_count": null,
   "metadata": {},
   "outputs": [
    {
     "name": "stdout",
     "output_type": "stream",
     "text": [
      "Optimized a: 10.080952380952379\n",
      "Optimized b: 2.0942857142857156\n"
     ]
    }
   ],
   "source": [
    "import numpy as np\n",
    "\n",
    "# Simulated data\n",
    "t = np.array([0, 1, 2, 3, 4, 5])  # Time points\n",
    "Tm = np.array([10.1, 12.2, 14.3, 16.2, 18.5, 20.6])  # Measured temperature values\n",
    "\n",
    "# Create the design matrix X\n",
    "X = np.column_stack((np.ones_like(t), t))\n",
    "\n",
    "# Perform linear regression\n",
    "coefficients, residuals, rank, singular_values = np.linalg.lstsq(X, Tm, rcond=None)\n",
    "\n",
    "# Extract optimized a and b\n",
    "optimized_a, optimized_b = coefficients\n",
    "\n",
    "print(\"Optimized a:\", optimized_a)\n",
    "print(\"Optimized b:\", optimized_b)\n"
   ]
  },
  {
   "cell_type": "code",
   "execution_count": null,
   "metadata": {},
   "outputs": [
    {
     "ename": "ValueError",
     "evalue": "operands could not be broadcast together with shapes (4,) (6,) ",
     "output_type": "error",
     "traceback": [
      "\u001b[1;31m---------------------------------------------------------------------------\u001b[0m",
      "\u001b[1;31mValueError\u001b[0m                                Traceback (most recent call last)",
      "Cell \u001b[1;32mIn[3], line 26\u001b[0m\n\u001b[0;32m     23\u001b[0m initial_params \u001b[39m=\u001b[39m [\u001b[39m1.0\u001b[39m, \u001b[39m1.0\u001b[39m]\n\u001b[0;32m     25\u001b[0m \u001b[39m# Perform optimization\u001b[39;00m\n\u001b[1;32m---> 26\u001b[0m result \u001b[39m=\u001b[39m least_squares(residual, initial_params, args\u001b[39m=\u001b[39;49m(t, Tm))\n\u001b[0;32m     28\u001b[0m \u001b[39m# Extract optimized parameters\u001b[39;00m\n\u001b[0;32m     29\u001b[0m optimized_a, optimized_b \u001b[39m=\u001b[39m result\u001b[39m.\u001b[39mx\n",
      "File \u001b[1;32mc:\\Users\\Doaa Mohamed\\anaconda3\\lib\\site-packages\\scipy\\optimize\\_lsq\\least_squares.py:830\u001b[0m, in \u001b[0;36mleast_squares\u001b[1;34m(fun, x0, jac, bounds, method, ftol, xtol, gtol, x_scale, loss, f_scale, diff_step, tr_solver, tr_options, jac_sparsity, max_nfev, verbose, args, kwargs)\u001b[0m\n\u001b[0;32m    827\u001b[0m \u001b[39mif\u001b[39;00m method \u001b[39m==\u001b[39m \u001b[39m'\u001b[39m\u001b[39mtrf\u001b[39m\u001b[39m'\u001b[39m:\n\u001b[0;32m    828\u001b[0m     x0 \u001b[39m=\u001b[39m make_strictly_feasible(x0, lb, ub)\n\u001b[1;32m--> 830\u001b[0m f0 \u001b[39m=\u001b[39m fun_wrapped(x0)\n\u001b[0;32m    832\u001b[0m \u001b[39mif\u001b[39;00m f0\u001b[39m.\u001b[39mndim \u001b[39m!=\u001b[39m \u001b[39m1\u001b[39m:\n\u001b[0;32m    833\u001b[0m     \u001b[39mraise\u001b[39;00m \u001b[39mValueError\u001b[39;00m(\u001b[39m\"\u001b[39m\u001b[39m`fun` must return at most 1-d array_like. \u001b[39m\u001b[39m\"\u001b[39m\n\u001b[0;32m    834\u001b[0m                      \u001b[39m\"\u001b[39m\u001b[39mf0.shape: \u001b[39m\u001b[39m{0}\u001b[39;00m\u001b[39m\"\u001b[39m\u001b[39m.\u001b[39mformat(f0\u001b[39m.\u001b[39mshape))\n",
      "File \u001b[1;32mc:\\Users\\Doaa Mohamed\\anaconda3\\lib\\site-packages\\scipy\\optimize\\_lsq\\least_squares.py:825\u001b[0m, in \u001b[0;36mleast_squares.<locals>.fun_wrapped\u001b[1;34m(x)\u001b[0m\n\u001b[0;32m    824\u001b[0m \u001b[39mdef\u001b[39;00m \u001b[39mfun_wrapped\u001b[39m(x):\n\u001b[1;32m--> 825\u001b[0m     \u001b[39mreturn\u001b[39;00m np\u001b[39m.\u001b[39matleast_1d(fun(x, \u001b[39m*\u001b[39margs, \u001b[39m*\u001b[39m\u001b[39m*\u001b[39mkwargs))\n",
      "Cell \u001b[1;32mIn[3], line 20\u001b[0m, in \u001b[0;36mresidual\u001b[1;34m(params, t, data)\u001b[0m\n\u001b[0;32m     19\u001b[0m \u001b[39mdef\u001b[39;00m \u001b[39mresidual\u001b[39m(params, t, data):\n\u001b[1;32m---> 20\u001b[0m     \u001b[39mreturn\u001b[39;00m data \u001b[39m-\u001b[39m model(params, t)\n",
      "Cell \u001b[1;32mIn[3], line 16\u001b[0m, in \u001b[0;36mmodel\u001b[1;34m(params, t)\u001b[0m\n\u001b[0;32m     14\u001b[0m \u001b[39mdef\u001b[39;00m \u001b[39mmodel\u001b[39m(params, t):\n\u001b[0;32m     15\u001b[0m     a, b \u001b[39m=\u001b[39m params[:\u001b[39m2\u001b[39m]\n\u001b[1;32m---> 16\u001b[0m     Fourier_terms \u001b[39m=\u001b[39m np\u001b[39m.\u001b[39msum(delta_Tn \u001b[39m*\u001b[39m np\u001b[39m.\u001b[39msin(np\u001b[39m.\u001b[39;49marange(\u001b[39m1\u001b[39;49m, \u001b[39m8\u001b[39;49m, \u001b[39m2\u001b[39;49m) \u001b[39m*\u001b[39;49m omega \u001b[39m*\u001b[39;49m t \u001b[39m+\u001b[39m phi_n), axis\u001b[39m=\u001b[39m\u001b[39m0\u001b[39m)\n\u001b[0;32m     17\u001b[0m     \u001b[39mreturn\u001b[39;00m a \u001b[39m+\u001b[39m b \u001b[39m*\u001b[39m t \u001b[39m+\u001b[39m Fourier_terms\n",
      "\u001b[1;31mValueError\u001b[0m: operands could not be broadcast together with shapes (4,) (6,) "
     ]
    }
   ],
   "source": [
    "import numpy as np\n",
    "from scipy.optimize import least_squares\n",
    "\n",
    "# Simulated data\n",
    "t = np.array([0, 1, 2, 3, 4, 5])  # Time points\n",
    "Tm = np.array([10.1, 12.2, 14.3, 16.2, 18.5, 20.6])  # Measured temperature values\n",
    "\n",
    "# Constants for Fourier components\n",
    "delta_Tn = np.array([1, 2, 0.5])\n",
    "omega = 2 * np.pi  # Modulated frequency\n",
    "phi_n = np.array([0.1, 0.5, 1.2])\n",
    "\n",
    "# Function to minimize\n",
    "def model(params, t):\n",
    "    a, b = params[:2]\n",
    "    Fourier_terms = np.sum(delta_Tn * np.sin(np.arange(1, 8, 2) * omega * t + phi_n), axis=0)\n",
    "    return a + b * t + Fourier_terms\n",
    "\n",
    "def residual(params, t, data):\n",
    "    return data - model(params, t)\n",
    "\n",
    "# Initial guess for parameters [a, b]\n",
    "initial_params = [1.0, 1.0]\n",
    "\n",
    "# Perform optimization\n",
    "result = least_squares(residual, initial_params, args=(t, Tm))\n",
    "\n",
    "# Extract optimized parameters\n",
    "optimized_a, optimized_b = result.x\n",
    "\n",
    "print(\"Optimized a:\", optimized_a)\n",
    "print(\"Optimized b:\", optimized_b)\n"
   ]
  },
  {
   "cell_type": "code",
   "execution_count": null,
   "metadata": {},
   "outputs": [
    {
     "ename": "ValueError",
     "evalue": "operands could not be broadcast together with shapes (4,6) (3,1) ",
     "output_type": "error",
     "traceback": [
      "\u001b[1;31m---------------------------------------------------------------------------\u001b[0m",
      "\u001b[1;31mValueError\u001b[0m                                Traceback (most recent call last)",
      "Cell \u001b[1;32mIn[4], line 26\u001b[0m\n\u001b[0;32m     23\u001b[0m initial_params \u001b[39m=\u001b[39m [\u001b[39m1.0\u001b[39m, \u001b[39m1.0\u001b[39m]\n\u001b[0;32m     25\u001b[0m \u001b[39m# Perform optimization\u001b[39;00m\n\u001b[1;32m---> 26\u001b[0m result \u001b[39m=\u001b[39m least_squares(residual, initial_params, args\u001b[39m=\u001b[39;49m(t, Tm))\n\u001b[0;32m     28\u001b[0m \u001b[39m# Extract optimized parameters\u001b[39;00m\n\u001b[0;32m     29\u001b[0m optimized_a, optimized_b \u001b[39m=\u001b[39m result\u001b[39m.\u001b[39mx\n",
      "File \u001b[1;32mc:\\Users\\Doaa Mohamed\\anaconda3\\lib\\site-packages\\scipy\\optimize\\_lsq\\least_squares.py:830\u001b[0m, in \u001b[0;36mleast_squares\u001b[1;34m(fun, x0, jac, bounds, method, ftol, xtol, gtol, x_scale, loss, f_scale, diff_step, tr_solver, tr_options, jac_sparsity, max_nfev, verbose, args, kwargs)\u001b[0m\n\u001b[0;32m    827\u001b[0m \u001b[39mif\u001b[39;00m method \u001b[39m==\u001b[39m \u001b[39m'\u001b[39m\u001b[39mtrf\u001b[39m\u001b[39m'\u001b[39m:\n\u001b[0;32m    828\u001b[0m     x0 \u001b[39m=\u001b[39m make_strictly_feasible(x0, lb, ub)\n\u001b[1;32m--> 830\u001b[0m f0 \u001b[39m=\u001b[39m fun_wrapped(x0)\n\u001b[0;32m    832\u001b[0m \u001b[39mif\u001b[39;00m f0\u001b[39m.\u001b[39mndim \u001b[39m!=\u001b[39m \u001b[39m1\u001b[39m:\n\u001b[0;32m    833\u001b[0m     \u001b[39mraise\u001b[39;00m \u001b[39mValueError\u001b[39;00m(\u001b[39m\"\u001b[39m\u001b[39m`fun` must return at most 1-d array_like. \u001b[39m\u001b[39m\"\u001b[39m\n\u001b[0;32m    834\u001b[0m                      \u001b[39m\"\u001b[39m\u001b[39mf0.shape: \u001b[39m\u001b[39m{0}\u001b[39;00m\u001b[39m\"\u001b[39m\u001b[39m.\u001b[39mformat(f0\u001b[39m.\u001b[39mshape))\n",
      "File \u001b[1;32mc:\\Users\\Doaa Mohamed\\anaconda3\\lib\\site-packages\\scipy\\optimize\\_lsq\\least_squares.py:825\u001b[0m, in \u001b[0;36mleast_squares.<locals>.fun_wrapped\u001b[1;34m(x)\u001b[0m\n\u001b[0;32m    824\u001b[0m \u001b[39mdef\u001b[39;00m \u001b[39mfun_wrapped\u001b[39m(x):\n\u001b[1;32m--> 825\u001b[0m     \u001b[39mreturn\u001b[39;00m np\u001b[39m.\u001b[39matleast_1d(fun(x, \u001b[39m*\u001b[39margs, \u001b[39m*\u001b[39m\u001b[39m*\u001b[39mkwargs))\n",
      "Cell \u001b[1;32mIn[4], line 20\u001b[0m, in \u001b[0;36mresidual\u001b[1;34m(params, t, data)\u001b[0m\n\u001b[0;32m     19\u001b[0m \u001b[39mdef\u001b[39;00m \u001b[39mresidual\u001b[39m(params, t, data):\n\u001b[1;32m---> 20\u001b[0m     \u001b[39mreturn\u001b[39;00m data \u001b[39m-\u001b[39m model(params, t)\n",
      "Cell \u001b[1;32mIn[4], line 16\u001b[0m, in \u001b[0;36mmodel\u001b[1;34m(params, t)\u001b[0m\n\u001b[0;32m     14\u001b[0m \u001b[39mdef\u001b[39;00m \u001b[39mmodel\u001b[39m(params, t):\n\u001b[0;32m     15\u001b[0m     a, b \u001b[39m=\u001b[39m params[:\u001b[39m2\u001b[39m]\n\u001b[1;32m---> 16\u001b[0m     Fourier_terms \u001b[39m=\u001b[39m np\u001b[39m.\u001b[39msum(delta_Tn \u001b[39m*\u001b[39m np\u001b[39m.\u001b[39msin(np\u001b[39m.\u001b[39;49marange(\u001b[39m1\u001b[39;49m, \u001b[39m8\u001b[39;49m, \u001b[39m2\u001b[39;49m)[:, np\u001b[39m.\u001b[39;49mnewaxis] \u001b[39m*\u001b[39;49m omega \u001b[39m*\u001b[39;49m t \u001b[39m+\u001b[39;49m phi_n[:, np\u001b[39m.\u001b[39;49mnewaxis]), axis\u001b[39m=\u001b[39m\u001b[39m0\u001b[39m)\n\u001b[0;32m     17\u001b[0m     \u001b[39mreturn\u001b[39;00m a \u001b[39m+\u001b[39m b \u001b[39m*\u001b[39m t \u001b[39m+\u001b[39m Fourier_terms\n",
      "\u001b[1;31mValueError\u001b[0m: operands could not be broadcast together with shapes (4,6) (3,1) "
     ]
    }
   ],
   "source": [
    "import numpy as np\n",
    "from scipy.optimize import least_squares\n",
    "\n",
    "# Simulated data\n",
    "t = np.array([0, 1, 2, 3, 4, 5])  # Time points\n",
    "Tm = np.array([10.1, 12.2, 14.3, 16.2, 18.5, 20.6])  # Measured temperature values\n",
    "\n",
    "# Constants for Fourier components\n",
    "delta_Tn = np.array([1, 2, 0.5])\n",
    "omega = 2 * np.pi  # Modulated frequency\n",
    "phi_n = np.array([0.1, 0.5, 1.2])\n",
    "\n",
    "# Function to minimize\n",
    "def model(params, t):\n",
    "    a, b = params[:2]\n",
    "    Fourier_terms = np.sum(delta_Tn * np.sin(np.arange(1, 8, 2)[:, np.newaxis] * omega * t + phi_n[:, np.newaxis]), axis=0)\n",
    "    return a + b * t + Fourier_terms\n",
    "\n",
    "def residual(params, t, data):\n",
    "    return data - model(params, t)\n",
    "\n",
    "# Initial guess for parameters [a, b]\n",
    "initial_params = [1.0, 1.0]\n",
    "\n",
    "# Perform optimization\n",
    "result = least_squares(residual, initial_params, args=(t, Tm))\n",
    "\n",
    "# Extract optimized parameters\n",
    "optimized_a, optimized_b = result.x\n",
    "\n",
    "print(\"Optimized a:\", optimized_a)\n",
    "print(\"Optimized b:\", optimized_b)\n"
   ]
  },
  {
   "cell_type": "code",
   "execution_count": null,
   "metadata": {},
   "outputs": [],
   "source": []
  }
 ],
 "metadata": {
  "kernelspec": {
   "display_name": "base",
   "language": "python",
   "name": "python3"
  },
  "language_info": {
   "codemirror_mode": {
    "name": "ipython",
    "version": 3
   },
   "file_extension": ".py",
   "mimetype": "text/x-python",
   "name": "python",
   "nbconvert_exporter": "python",
   "pygments_lexer": "ipython3",
   "version": "3.10.9"
  },
  "orig_nbformat": 4
 },
 "nbformat": 4,
 "nbformat_minor": 2
}
