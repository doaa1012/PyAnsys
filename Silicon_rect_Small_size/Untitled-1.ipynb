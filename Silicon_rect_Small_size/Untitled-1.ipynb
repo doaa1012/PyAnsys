{
 "cells": [
  {
   "cell_type": "code",
   "execution_count": 1,
   "metadata": {},
   "outputs": [],
   "source": [
    "from ansys.mapdl.core import launch_mapdl\n",
    "import numpy as np\n",
    "import pyvista as pv\n",
    "import numpy as np\n",
    "import matplotlib.pyplot as plt\n",
    "np.set_printoptions(precision=4)\n",
    "import pandas as pd\n",
    "import pickle\n",
    "import os\n",
    "import sys"
   ]
  },
  {
   "cell_type": "code",
   "execution_count": 2,
   "metadata": {},
   "outputs": [
    {
     "name": "stdout",
     "output_type": "stream",
     "text": [
      "PyMAPDL is taking longer than expected to connect to an MAPDL session.\n",
      "Checking if there are any available licenses...\n"
     ]
    },
    {
     "data": {
      "text/plain": [
       "MATERIAL          1     C    =   477.0000"
      ]
     },
     "execution_count": 2,
     "metadata": {},
     "output_type": "execute_result"
    }
   ],
   "source": [
    "mapdl = launch_mapdl()\n",
    "mapdl.clear()\n",
    "sample_dim= np.array([50e-3, 50e-3,4e-3])\n",
    "sample_mat=np.array ([148, 2330,710])\n",
    "sample_dim= sample_dim.reshape((1,3))\n",
    "sample_mat= sample_mat.reshape((1,3))\n",
    "\n",
    "sample_x = sample_dim[0,0]\n",
    "sample_y = sample_dim[0, 1]\n",
    "sample_z = sample_dim[0,2]\n",
    "\n",
    "kxx= sample_mat[0,0]\n",
    "dens = sample_mat[0,1]\n",
    "c= sample_mat[0,2]\n",
    "\n",
    "Q = 1000\n",
    "freq = 0.182\n",
    "#freq = 1\n",
    "T_wave = 1 / freq  \n",
    "omega = 2 * np.pi * freq  \n",
    "t_end = 5 * T_wave \n",
    "room_temp = 25\n",
    "num_steps_per_wave = 10\n",
    "\n",
    " \n",
    "deltim = T_wave / t_end \n",
    "\n",
    "num_steps = int(t_end / deltim)\n",
    "time_values = np.linspace(0, t_end, num_steps, endpoint=False)\n",
    "cos_values = np.cos(omega * time_values)\n",
    "heat_flux = Q * (1 - cos_values)\n",
    "\n",
    "# Store time and heat_flux in the load_table\n",
    "load_table = np.column_stack((time_values, heat_flux))\n",
    "\n",
    "delta_x = np.sqrt((deltim * 100 * kxx) / (dens * c))\n",
    "\n",
    "mapdl.clear()\n",
    "mapdl.prep7()\n",
    "\n",
    "mapdl.et(1,70)\n",
    "mapdl.mp(lab=\"KXX\", mat=1 , c0=kxx)\n",
    "mapdl.mp(lab='DENS', mat=1, c0=dens)\n",
    "mapdl.mp(lab='C', mat=1, c0=c)"
   ]
  },
  {
   "cell_type": "code",
   "execution_count": 3,
   "metadata": {},
   "outputs": [],
   "source": [
    "A = [\n",
    "    {\"x_strat\": 30e-3, \"x_end\": 35e-3,  \"y_strat\": 30e-3, \"y_end\": 35e-3,  \"z_strat\": 4e-3, \"z_end\": 3e-3 },\n",
    "    {\"x_strat\": 70e-3, \"x_end\": 80e-3,  \"y_strat\": 70e-3, \"y_end\": 80e-3,  \"z_strat\": 4e-3, \"z_end\": 2e-3}]\n",
    "\n",
    "\n",
    "numeric_values_A = [[item[\"x_strat\"], item[\"x_end\"], item[\"y_strat\"], item[\"y_end\"], item[\"z_strat\"],  item[\"z_end\"]] for item in A]\n",
    "    \n",
    "defects_loc = np.array(numeric_values_A)"
   ]
  },
  {
   "cell_type": "code",
   "execution_count": 4,
   "metadata": {},
   "outputs": [
    {
     "data": {
      "application/vnd.jupyter.widget-view+json": {
       "model_id": "3bf5b2d24a1a43a6a59ac2feb16c0f3b",
       "version_major": 2,
       "version_minor": 0
      },
      "text/plain": [
       "ViewInteractiveWidget(height=768, layout=Layout(height='auto', width='100%'), width=1024)"
      ]
     },
     "metadata": {},
     "output_type": "display_data"
    }
   ],
   "source": [
    "\n",
    "#x_start= 30e-3, \n",
    "#x_end= 40e-3, \n",
    "#y_start= 30e-3, \n",
    "#y_end=40e-3, \n",
    "#z_start= -2e-3, \n",
    "#z_end= -10e-3\n",
    "\n",
    "for data_point in defects_loc:\n",
    "    x_start = data_point[0]     \n",
    "    x_end = data_point[1]  \n",
    "\n",
    "    y_start = data_point[2]     \n",
    "    y_end = data_point[3] \n",
    "\n",
    "    z_start = data_point[4]     \n",
    "    z_end = data_point[5] \n",
    "\n",
    "    rect_vol = mapdl.block(0, sample_x, 0, sample_y, 0, sample_z)\n",
    "    Rect_complete = mapdl.block(x1=x_start, x2=x_end, y1=y_start, y2=y_end, z1=0, z2=sample_z)\n",
    "    Rect_partial = mapdl.block(x1=x_start, x2=x_end, y1=y_start, y2=y_end, z1=z_start, z2=z_end)\n",
    "    mapdl.vsel('none')\n",
    "    mapdl.vsel('A', vmin=rect_vol)\n",
    "    mapdl.vsel('A', vmin=Rect_complete)\n",
    "    mapdl.vsbv(nv1=rect_vol, nv2=Rect_complete)\n",
    "    mapdl.allsel()\n",
    "    mapdl.vglue(\"all\")\n",
    "    break\n",
    "mapdl.vplot(\"all\")"
   ]
  },
  {
   "cell_type": "code",
   "execution_count": 5,
   "metadata": {},
   "outputs": [
    {
     "data": {
      "text/plain": [
       "array([1, 3])"
      ]
     },
     "execution_count": 5,
     "metadata": {},
     "output_type": "execute_result"
    }
   ],
   "source": [
    "mapdl.vsel(\"all\")"
   ]
  },
  {
   "cell_type": "code",
   "execution_count": 6,
   "metadata": {},
   "outputs": [
    {
     "data": {
      "text/plain": [
       "GENERATE NODES AND ELEMENTS   IN  ALL  SELECTED VOLUMES  \n",
       "\n",
       " *** NOTE ***                            CP =       0.141   TIME= 18:43:05\n",
       " 4 Pyramid transition elements automatically defined in volume 3 at      \n",
       " boundary between brick (or quad) and tetrahedral elements.              \n",
       "\n",
       " NUMBER OF VOLUMES MESHED   =         1\n",
       " MAXIMUM NODE NUMBER        =       170\n",
       " MAXIMUM ELEMENT NUMBER     =       106"
      ]
     },
     "execution_count": 6,
     "metadata": {},
     "output_type": "execute_result"
    }
   ],
   "source": [
    "mapdl.allsel()\n",
    "mapdl.esize(size=delta_x)\n",
    "mapdl.vsweep(vnum=rect_vol)\n",
    "mapdl.mshape(1, \"3D\")\n",
    "mapdl.mshkey(0)\n",
    "mapdl.vmesh(\"all\")\n"
   ]
  },
  {
   "cell_type": "code",
   "execution_count": 7,
   "metadata": {},
   "outputs": [
    {
     "data": {
      "application/vnd.jupyter.widget-view+json": {
       "model_id": "33944c130ea44adea58a48f20e99d9bb",
       "version_major": 2,
       "version_minor": 0
      },
      "text/plain": [
       "ViewInteractiveWidget(height=768, layout=Layout(height='auto', width='100%'), width=1024)"
      ]
     },
     "metadata": {},
     "output_type": "display_data"
    }
   ],
   "source": [
    "mapdl.vplot()"
   ]
  },
  {
   "cell_type": "code",
   "execution_count": null,
   "metadata": {},
   "outputs": [],
   "source": []
  }
 ],
 "metadata": {
  "kernelspec": {
   "display_name": "base",
   "language": "python",
   "name": "python3"
  },
  "language_info": {
   "codemirror_mode": {
    "name": "ipython",
    "version": 3
   },
   "file_extension": ".py",
   "mimetype": "text/x-python",
   "name": "python",
   "nbconvert_exporter": "python",
   "pygments_lexer": "ipython3",
   "version": "3.10.9"
  },
  "orig_nbformat": 4
 },
 "nbformat": 4,
 "nbformat_minor": 2
}
