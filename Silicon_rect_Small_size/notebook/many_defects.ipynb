{
 "cells": [
  {
   "cell_type": "code",
   "execution_count": 1,
   "metadata": {},
   "outputs": [],
   "source": [
    "from ansys.mapdl.core import launch_mapdl\n",
    "import numpy as np\n",
    "import pyvista as pv\n",
    "import numpy as np\n",
    "import matplotlib.pyplot as plt\n",
    "np.set_printoptions(precision=4)\n",
    "import pandas as pd"
   ]
  },
  {
   "cell_type": "code",
   "execution_count": 2,
   "metadata": {},
   "outputs": [],
   "source": [
    "mapdl = launch_mapdl()\n",
    "\n",
    "sample_dim= np.array([180e-3, 180e-3,-10e-3])\n",
    "sample_mat= np.array([16.2, 7900 , 477])\n",
    "sample_dim= sample_dim.reshape((1,3))\n",
    "sample_mat= sample_mat.reshape((1,3))"
   ]
  },
  {
   "cell_type": "code",
   "execution_count": 3,
   "metadata": {},
   "outputs": [],
   "source": [
    "sample_x = sample_dim[0,0]\n",
    "sample_y = sample_dim[0, 1]\n",
    "sample_z = sample_dim[0,2]\n",
    "\n",
    "kxx= sample_mat[0,0]\n",
    "dens = sample_mat[0,1]\n",
    "c= sample_mat[0,2]"
   ]
  },
  {
   "cell_type": "code",
   "execution_count": 4,
   "metadata": {},
   "outputs": [],
   "source": [
    "A = [\n",
    "    {\"x\": 30e-3, \"y\": 150e-3, \"radius\": 8e-3, \"depth\": -8e-3},\n",
    "    {\"x\": 70e-3, \"y\": 150e-3, \"radius\": 2e-3, \"depth\": -8e-3},\n",
    "    {\"x\": 110e-3, \"y\": 150e-3, \"radius\": 4e-3, \"depth\": -8e-3},\n",
    "    {\"x\": 150e-3, \"y\": 150e-3, \"radius\": 6e-3, \"depth\": -8e-3}]\n",
    "\n",
    "B = [\n",
    "    {\"x\": 30e-3, \"y\": 40e-3, \"radius\": 8e-3, \"depth\": -5e-3},\n",
    "    {\"x\": 70e-3, \"y\": 40e-3, \"radius\": 2e-3, \"depth\": -5e-3},\n",
    "    {\"x\": 110e-3, \"y\": 40e-3, \"radius\": 4e-3, \"depth\": -5e-3},\n",
    "    {\"x\": 150e-3, \"y\": 40e-3, \"radius\": 6e-3, \"depth\": -5e-3}]\n",
    "\n",
    "c = [\n",
    "    {\"x\": 30e-3, \"y\": 40e-3, \"radius\": 8e-3, \"depth\": -5e-3},\n",
    "    {\"x\": 70e-3, \"y\": 40e-3, \"radius\": 2e-3, \"depth\": -5e-3},\n",
    "    {\"x\": 110e-3, \"y\": 40e-3, \"radius\": 4e-3, \"depth\": -5e-3},\n",
    "    {\"x\": 150e-3, \"y\": 40e-3, \"radius\": 6e-3, \"depth\": -5e-3}]"
   ]
  },
  {
   "cell_type": "code",
   "execution_count": 5,
   "metadata": {},
   "outputs": [],
   "source": [
    "numeric_values_A = [[item[\"x\"], item[\"y\"], item[\"radius\"], item[\"depth\"]] for item in A]\n",
    "numeric_values_B = [[item[\"x\"], item[\"y\"], item[\"radius\"], item[\"depth\"]] for item in B]\n",
    "numeric_values_c = [[item[\"x\"], item[\"y\"], item[\"radius\"], item[\"depth\"]] for item in c]\n",
    "\n",
    "# Combine the numeric values into a single NumPy array\n",
    "combined_data = np.array(numeric_values_A + numeric_values_B + numeric_values_c)\n"
   ]
  },
  {
   "cell_type": "markdown",
   "metadata": {},
   "source": []
  },
  {
   "cell_type": "code",
   "execution_count": 6,
   "metadata": {},
   "outputs": [
    {
     "ename": "MapdlInvalidRoutineError",
     "evalue": "*** WARNING ***                         CP =       0.094   TIME= 22:52:40\n BLOCK is not a recognized BEGIN command, abbreviation, or macro.  This  \n command will be ignored.\n\nIgnore these messages by setting 'ignore_errors'=True",
     "output_type": "error",
     "traceback": [
      "\u001b[1;31m---------------------------------------------------------------------------\u001b[0m",
      "\u001b[1;31mMapdlInvalidRoutineError\u001b[0m                  Traceback (most recent call last)",
      "Cell \u001b[1;32mIn[6], line 1\u001b[0m\n\u001b[1;32m----> 1\u001b[0m rect_vol \u001b[39m=\u001b[39m mapdl\u001b[39m.\u001b[39;49mblock(\u001b[39m0\u001b[39;49m, sample_x, \u001b[39m0\u001b[39;49m, sample_y, \u001b[39m0\u001b[39;49m, sample_z)\n",
      "File \u001b[1;32mc:\\Users\\Doaa Mohamed\\anaconda3\\lib\\site-packages\\ansys\\mapdl\\core\\_commands\\preproc\\primitives.py:161\u001b[0m, in \u001b[0;36mPrimitives.block\u001b[1;34m(self, x1, x2, y1, y2, z1, z2, **kwargs)\u001b[0m\n\u001b[0;32m    121\u001b[0m \u001b[39m\u001b[39m\u001b[39m\"\"\"Create a block volume based on working plane coordinates.\u001b[39;00m\n\u001b[0;32m    122\u001b[0m \n\u001b[0;32m    123\u001b[0m \u001b[39mAPDL Command: BLOCK\u001b[39;00m\n\u001b[1;32m   (...)\u001b[0m\n\u001b[0;32m    158\u001b[0m \n\u001b[0;32m    159\u001b[0m \u001b[39m\"\"\"\u001b[39;00m\n\u001b[0;32m    160\u001b[0m command \u001b[39m=\u001b[39m \u001b[39mf\u001b[39m\u001b[39m\"\u001b[39m\u001b[39mBLOCK,\u001b[39m\u001b[39m{\u001b[39;00mx1\u001b[39m}\u001b[39;00m\u001b[39m,\u001b[39m\u001b[39m{\u001b[39;00mx2\u001b[39m}\u001b[39;00m\u001b[39m,\u001b[39m\u001b[39m{\u001b[39;00my1\u001b[39m}\u001b[39;00m\u001b[39m,\u001b[39m\u001b[39m{\u001b[39;00my2\u001b[39m}\u001b[39;00m\u001b[39m,\u001b[39m\u001b[39m{\u001b[39;00mz1\u001b[39m}\u001b[39;00m\u001b[39m,\u001b[39m\u001b[39m{\u001b[39;00mz2\u001b[39m}\u001b[39;00m\u001b[39m\"\u001b[39m\n\u001b[1;32m--> 161\u001b[0m \u001b[39mreturn\u001b[39;00m parse\u001b[39m.\u001b[39mparse_output_volume_area(\u001b[39mself\u001b[39m\u001b[39m.\u001b[39mrun(command, \u001b[39m*\u001b[39m\u001b[39m*\u001b[39mkwargs))\n",
      "File \u001b[1;32mc:\\Users\\Doaa Mohamed\\anaconda3\\lib\\site-packages\\ansys\\mapdl\\core\\mapdl.py:2909\u001b[0m, in \u001b[0;36m_MapdlCore.run\u001b[1;34m(self, command, write_to_log, mute, **kwargs)\u001b[0m\n\u001b[0;32m   2906\u001b[0m     \u001b[39mreturn\u001b[39;00m \u001b[39mself\u001b[39m\u001b[39m.\u001b[39m_response\n\u001b[0;32m   2908\u001b[0m \u001b[39mif\u001b[39;00m \u001b[39mnot\u001b[39;00m \u001b[39mself\u001b[39m\u001b[39m.\u001b[39mignore_errors:\n\u001b[1;32m-> 2909\u001b[0m     \u001b[39mself\u001b[39;49m\u001b[39m.\u001b[39;49m_raise_errors(text)\n\u001b[0;32m   2911\u001b[0m \u001b[39m# special returns for certain geometry commands\u001b[39;00m\n\u001b[0;32m   2912\u001b[0m short_cmd \u001b[39m=\u001b[39m parse_to_short_cmd(command)\n",
      "File \u001b[1;32mc:\\Users\\Doaa Mohamed\\anaconda3\\lib\\site-packages\\ansys\\mapdl\\core\\mapdl.py:3848\u001b[0m, in \u001b[0;36m_MapdlCore._raise_errors\u001b[1;34m(self, text)\u001b[0m\n\u001b[0;32m   3846\u001b[0m     text \u001b[39m=\u001b[39m text\u001b[39m.\u001b[39mreplace(\u001b[39m\"\u001b[39m\u001b[39mThis command will be ignored.\u001b[39m\u001b[39m\"\u001b[39m, \u001b[39m\"\u001b[39m\u001b[39m\"\u001b[39m)\n\u001b[0;32m   3847\u001b[0m     text \u001b[39m+\u001b[39m\u001b[39m=\u001b[39m \u001b[39m\"\u001b[39m\u001b[39m\\n\u001b[39;00m\u001b[39m\\n\u001b[39;00m\u001b[39mIgnore these messages by setting \u001b[39m\u001b[39m'\u001b[39m\u001b[39mignore_errors\u001b[39m\u001b[39m'\u001b[39m\u001b[39m=True\u001b[39m\u001b[39m\"\u001b[39m\n\u001b[1;32m-> 3848\u001b[0m     \u001b[39mraise\u001b[39;00m MapdlInvalidRoutineError(text)\n\u001b[0;32m   3850\u001b[0m \u001b[39mif\u001b[39;00m \u001b[39m\"\u001b[39m\u001b[39mcommand is ignored\u001b[39m\u001b[39m\"\u001b[39m \u001b[39min\u001b[39;00m flat_text:\n\u001b[0;32m   3851\u001b[0m     text \u001b[39m+\u001b[39m\u001b[39m=\u001b[39m \u001b[39m\"\u001b[39m\u001b[39m\\n\u001b[39;00m\u001b[39m\\n\u001b[39;00m\u001b[39mIgnore these messages by setting \u001b[39m\u001b[39m'\u001b[39m\u001b[39mignore_errors\u001b[39m\u001b[39m'\u001b[39m\u001b[39m=True\u001b[39m\u001b[39m\"\u001b[39m\n",
      "\u001b[1;31mMapdlInvalidRoutineError\u001b[0m: *** WARNING ***                         CP =       0.094   TIME= 22:52:40\n BLOCK is not a recognized BEGIN command, abbreviation, or macro.  This  \n command will be ignored.\n\nIgnore these messages by setting 'ignore_errors'=True"
     ]
    }
   ],
   "source": [
    "rect_vol = mapdl.block(0, sample_x, 0, sample_y, 0, sample_z)"
   ]
  },
  {
   "cell_type": "code",
   "execution_count": null,
   "metadata": {},
   "outputs": [
    {
     "ename": "MapdlInvalidRoutineError",
     "evalue": "*** WARNING ***                         CP =       0.062   TIME= 20:07:19\n BLOCK is not a recognized BEGIN command, abbreviation, or macro.  This  \n command will be ignored.\n\nIgnore these messages by setting 'ignore_errors'=True",
     "output_type": "error",
     "traceback": [
      "\u001b[1;31m---------------------------------------------------------------------------\u001b[0m",
      "\u001b[1;31mMapdlInvalidRoutineError\u001b[0m                  Traceback (most recent call last)",
      "Cell \u001b[1;32mIn[7], line 1\u001b[0m\n\u001b[1;32m----> 1\u001b[0m rect_vol \u001b[39m=\u001b[39m mapdl\u001b[39m.\u001b[39;49mblock(\u001b[39m0\u001b[39;49m, sample_x, \u001b[39m0\u001b[39;49m, sample_y, \u001b[39m0\u001b[39;49m, sample_z)\n\u001b[0;32m      3\u001b[0m \u001b[39mfor\u001b[39;00m data_point \u001b[39min\u001b[39;00m combined_data:\n\u001b[0;32m      4\u001b[0m     x \u001b[39m=\u001b[39m data_point[\u001b[39m0\u001b[39m]     \n",
      "File \u001b[1;32mc:\\Users\\Doaa Mohamed\\anaconda3\\lib\\site-packages\\ansys\\mapdl\\core\\_commands\\preproc\\primitives.py:161\u001b[0m, in \u001b[0;36mPrimitives.block\u001b[1;34m(self, x1, x2, y1, y2, z1, z2, **kwargs)\u001b[0m\n\u001b[0;32m    121\u001b[0m \u001b[39m\u001b[39m\u001b[39m\"\"\"Create a block volume based on working plane coordinates.\u001b[39;00m\n\u001b[0;32m    122\u001b[0m \n\u001b[0;32m    123\u001b[0m \u001b[39mAPDL Command: BLOCK\u001b[39;00m\n\u001b[1;32m   (...)\u001b[0m\n\u001b[0;32m    158\u001b[0m \n\u001b[0;32m    159\u001b[0m \u001b[39m\"\"\"\u001b[39;00m\n\u001b[0;32m    160\u001b[0m command \u001b[39m=\u001b[39m \u001b[39mf\u001b[39m\u001b[39m\"\u001b[39m\u001b[39mBLOCK,\u001b[39m\u001b[39m{\u001b[39;00mx1\u001b[39m}\u001b[39;00m\u001b[39m,\u001b[39m\u001b[39m{\u001b[39;00mx2\u001b[39m}\u001b[39;00m\u001b[39m,\u001b[39m\u001b[39m{\u001b[39;00my1\u001b[39m}\u001b[39;00m\u001b[39m,\u001b[39m\u001b[39m{\u001b[39;00my2\u001b[39m}\u001b[39;00m\u001b[39m,\u001b[39m\u001b[39m{\u001b[39;00mz1\u001b[39m}\u001b[39;00m\u001b[39m,\u001b[39m\u001b[39m{\u001b[39;00mz2\u001b[39m}\u001b[39;00m\u001b[39m\"\u001b[39m\n\u001b[1;32m--> 161\u001b[0m \u001b[39mreturn\u001b[39;00m parse\u001b[39m.\u001b[39mparse_output_volume_area(\u001b[39mself\u001b[39m\u001b[39m.\u001b[39mrun(command, \u001b[39m*\u001b[39m\u001b[39m*\u001b[39mkwargs))\n",
      "File \u001b[1;32mc:\\Users\\Doaa Mohamed\\anaconda3\\lib\\site-packages\\ansys\\mapdl\\core\\mapdl.py:2909\u001b[0m, in \u001b[0;36m_MapdlCore.run\u001b[1;34m(self, command, write_to_log, mute, **kwargs)\u001b[0m\n\u001b[0;32m   2906\u001b[0m     \u001b[39mreturn\u001b[39;00m \u001b[39mself\u001b[39m\u001b[39m.\u001b[39m_response\n\u001b[0;32m   2908\u001b[0m \u001b[39mif\u001b[39;00m \u001b[39mnot\u001b[39;00m \u001b[39mself\u001b[39m\u001b[39m.\u001b[39mignore_errors:\n\u001b[1;32m-> 2909\u001b[0m     \u001b[39mself\u001b[39;49m\u001b[39m.\u001b[39;49m_raise_errors(text)\n\u001b[0;32m   2911\u001b[0m \u001b[39m# special returns for certain geometry commands\u001b[39;00m\n\u001b[0;32m   2912\u001b[0m short_cmd \u001b[39m=\u001b[39m parse_to_short_cmd(command)\n",
      "File \u001b[1;32mc:\\Users\\Doaa Mohamed\\anaconda3\\lib\\site-packages\\ansys\\mapdl\\core\\mapdl.py:3848\u001b[0m, in \u001b[0;36m_MapdlCore._raise_errors\u001b[1;34m(self, text)\u001b[0m\n\u001b[0;32m   3846\u001b[0m     text \u001b[39m=\u001b[39m text\u001b[39m.\u001b[39mreplace(\u001b[39m\"\u001b[39m\u001b[39mThis command will be ignored.\u001b[39m\u001b[39m\"\u001b[39m, \u001b[39m\"\u001b[39m\u001b[39m\"\u001b[39m)\n\u001b[0;32m   3847\u001b[0m     text \u001b[39m+\u001b[39m\u001b[39m=\u001b[39m \u001b[39m\"\u001b[39m\u001b[39m\\n\u001b[39;00m\u001b[39m\\n\u001b[39;00m\u001b[39mIgnore these messages by setting \u001b[39m\u001b[39m'\u001b[39m\u001b[39mignore_errors\u001b[39m\u001b[39m'\u001b[39m\u001b[39m=True\u001b[39m\u001b[39m\"\u001b[39m\n\u001b[1;32m-> 3848\u001b[0m     \u001b[39mraise\u001b[39;00m MapdlInvalidRoutineError(text)\n\u001b[0;32m   3850\u001b[0m \u001b[39mif\u001b[39;00m \u001b[39m\"\u001b[39m\u001b[39mcommand is ignored\u001b[39m\u001b[39m\"\u001b[39m \u001b[39min\u001b[39;00m flat_text:\n\u001b[0;32m   3851\u001b[0m     text \u001b[39m+\u001b[39m\u001b[39m=\u001b[39m \u001b[39m\"\u001b[39m\u001b[39m\\n\u001b[39;00m\u001b[39m\\n\u001b[39;00m\u001b[39mIgnore these messages by setting \u001b[39m\u001b[39m'\u001b[39m\u001b[39mignore_errors\u001b[39m\u001b[39m'\u001b[39m\u001b[39m=True\u001b[39m\u001b[39m\"\u001b[39m\n",
      "\u001b[1;31mMapdlInvalidRoutineError\u001b[0m: *** WARNING ***                         CP =       0.062   TIME= 20:07:19\n BLOCK is not a recognized BEGIN command, abbreviation, or macro.  This  \n command will be ignored.\n\nIgnore these messages by setting 'ignore_errors'=True"
     ]
    }
   ],
   "source": [
    "rect_vol = mapdl.block(0, sample_x, 0, sample_y, 0, sample_z)\n",
    "\n",
    "for data_point in combined_data:\n",
    "    x = data_point[0]     \n",
    "    y = data_point[1]      \n",
    "    radius = data_point[2] \n",
    "    depth = data_point[3]  \n",
    "    print(x,y,radius,depth )\n",
    "    cly_complete = mapdl.cyl4(xcenter=x, ycenter=y, rad1=radius, depth=sample_z)\n",
    "    cly_partial = mapdl.cyl4(xcenter=x, ycenter=y, rad1=radius, depth=depth)\n",
    "\n",
    "    mapdl.vsel('none')\n",
    "    mapdl.vsel('A', vmin=rect_vol)\n",
    "    mapdl.vsel('A', vmin=cly_complete)\n",
    "    mapdl.vsbv(nv1=rect_vol, nv2=cly_complete)\n",
    "    mapdl.allsel()\n",
    "    mapdl.vglue(\"all\")\n",
    "\n",
    "mapdl.vplot(\"all\")\n"
   ]
  },
  {
   "cell_type": "code",
   "execution_count": null,
   "metadata": {},
   "outputs": [
    {
     "name": "stdout",
     "output_type": "stream",
     "text": [
      "0.03 0.15 0.008 -0.008\n",
      "0.07 0.15 0.002 -0.008\n",
      "0.11 0.15 0.004 -0.008\n",
      "0.15 0.15 0.006 -0.008\n",
      "0.03 0.04 0.008 -0.005\n",
      "0.07 0.04 0.002 -0.005\n",
      "0.11 0.04 0.004 -0.005\n",
      "0.15 0.04 0.006 -0.005\n",
      "0.03 0.04 0.008 -0.005\n",
      "0.07 0.04 0.002 -0.005\n",
      "0.11 0.04 0.004 -0.005\n",
      "0.15 0.04 0.006 -0.005\n"
     ]
    }
   ],
   "source": [
    "for data_point in combined_data:\n",
    "    x = data_point[0]     \n",
    "    y = data_point[1]      \n",
    "    radius = data_point[2] \n",
    "    depth = data_point[3]  \n",
    "    print(x,y,radius,depth )\n",
    "    "
   ]
  },
  {
   "cell_type": "code",
   "execution_count": null,
   "metadata": {},
   "outputs": [],
   "source": [
    "sample_x = sample_dim[0,0]\n",
    "sample_y = sample_dim[0, 1]\n",
    "sample_z = sample_dim[0,2]\n",
    "\n",
    "kxx= sample_mat[0,0]\n",
    "dens = sample_mat[0,1]\n",
    "c= sample_mat[0,2]"
   ]
  },
  {
   "cell_type": "code",
   "execution_count": null,
   "metadata": {},
   "outputs": [],
   "source": [
    "Q = 1000\n",
    "freq = 0.071\n",
    "T_wave = 1 / freq  \n",
    "omega = 2 * np.pi * freq  \n",
    "t_end = 5 * T_wave \n",
    "room_temp = 25\n",
    "num_steps_per_wave = 10\n",
    "\n",
    "\n",
    "#deltim = T_wave / t_end \n",
    "deltim =(T_wave) / t_end \n",
    "\n",
    "num_steps = int(t_end / deltim)\n",
    "time_values = np.linspace(0, t_end, num_steps, endpoint=False)\n",
    "cos_values = np.cos(omega * time_values)\n",
    "heat_flux = Q * (1 - cos_values)\n",
    "\n",
    "# Store time and heat_flux in the load_table\n",
    "load_table = np.column_stack((time_values, heat_flux))\n",
    "\n",
    "\n",
    "# Plot the cosine function\n",
    "plt.plot(time_values, heat_flux)\n",
    "plt.xlabel('Time')\n",
    "plt.ylabel('Heat Flux')\n",
    "plt.title('Heat Flux vs. Time')\n",
    "plt.grid(True)\n",
    "plt.show()\n",
    "\n"
   ]
  }
 ],
 "metadata": {
  "kernelspec": {
   "display_name": "base",
   "language": "python",
   "name": "python3"
  },
  "language_info": {
   "codemirror_mode": {
    "name": "ipython",
    "version": 3
   },
   "file_extension": ".py",
   "mimetype": "text/x-python",
   "name": "python",
   "nbconvert_exporter": "python",
   "pygments_lexer": "ipython3",
   "version": "3.10.9"
  },
  "orig_nbformat": 4
 },
 "nbformat": 4,
 "nbformat_minor": 2
}
